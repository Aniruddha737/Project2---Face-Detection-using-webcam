{
 "cells": [
  {
   "cell_type": "code",
   "execution_count": 1,
   "id": "d51eee5c",
   "metadata": {},
   "outputs": [],
   "source": [
    "import cv2 as cv"
   ]
  },
  {
   "cell_type": "code",
   "execution_count": 2,
   "id": "1f3d3591",
   "metadata": {},
   "outputs": [],
   "source": [
    "#to access the webcam\n",
    "cam = cv.VideoCapture(0) #0 means inbuilt camera\n",
    "\n",
    "while True:\n",
    "    _,frame=cam.read()\n",
    "    frame=cv.flip(frame, 1)\n",
    "    \n",
    "    \n",
    "    cv.imshow('Webcam',frame)\n",
    "    \n",
    "    key=cv.waitKey(30)\n",
    "    \n",
    "    if key==27:  #27 is code for esc key\n",
    "        break"
   ]
  },
  {
   "cell_type": "code",
   "execution_count": 3,
   "id": "ed6ef126",
   "metadata": {},
   "outputs": [],
   "source": [
    "cam.release()"
   ]
  },
  {
   "cell_type": "code",
   "execution_count": null,
   "id": "35c40d03",
   "metadata": {},
   "outputs": [],
   "source": []
  },
  {
   "cell_type": "code",
   "execution_count": null,
   "id": "e3ea4440",
   "metadata": {},
   "outputs": [],
   "source": []
  },
  {
   "cell_type": "code",
   "execution_count": null,
   "id": "43aec952",
   "metadata": {},
   "outputs": [],
   "source": []
  },
  {
   "cell_type": "code",
   "execution_count": 2,
   "id": "17842928",
   "metadata": {},
   "outputs": [],
   "source": [
    "face_classifier= cv.CascadeClassifier('haarcascade_frontalface_default.xml')\n",
    "\n",
    "cam = cv.VideoCapture(0) #0 means inbuilt camera\n",
    "\n",
    "while True:\n",
    "    _,frame=cam.read()  #reading each frame accesed from camera\n",
    "    frame=cv.flip(frame, 1)\n",
    "    \n",
    "    gray=cv.cvtColor(frame,cv.COLOR_BGR2GRAY)\n",
    "    \n",
    "    faces=face_classifier.detectMultiScale(gray, 1.4,4)\n",
    "    \n",
    "    for (x,y,w,h) in faces:\n",
    "        cv.rectangle(frame, (x,y),(x+w,y+h), (0,0,255),5)   # face rectangle\n",
    "    \n",
    "    cv.imshow('Webcam',frame)\n",
    "    \n",
    "    key=cv.waitKey(30)\n",
    "    \n",
    "    if key==27:  #27 is code for esc key\n",
    "        break"
   ]
  },
  {
   "cell_type": "code",
   "execution_count": null,
   "id": "1ac5eb9f",
   "metadata": {},
   "outputs": [],
   "source": []
  }
 ],
 "metadata": {
  "kernelspec": {
   "display_name": "Python 3",
   "language": "python",
   "name": "python3"
  },
  "language_info": {
   "codemirror_mode": {
    "name": "ipython",
    "version": 3
   },
   "file_extension": ".py",
   "mimetype": "text/x-python",
   "name": "python",
   "nbconvert_exporter": "python",
   "pygments_lexer": "ipython3",
   "version": "3.8.10"
  }
 },
 "nbformat": 4,
 "nbformat_minor": 5
}
